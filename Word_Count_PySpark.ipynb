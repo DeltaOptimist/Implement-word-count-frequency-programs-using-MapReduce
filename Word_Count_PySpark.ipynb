{
  "nbformat": 4,
  "nbformat_minor": 0,
  "metadata": {
    "colab": {
      "name": "Word_Count_PySpark.ipynb",
      "provenance": []
    },
    "kernelspec": {
      "name": "python3",
      "display_name": "Python 3"
    },
    "language_info": {
      "name": "python"
    }
  },
  "cells": [
    {
      "cell_type": "code",
      "metadata": {
        "colab": {
          "base_uri": "https://localhost:8080/"
        },
        "id": "aH95CpeM4Rga",
        "outputId": "ea56f4aa-9f13-4100-8a03-2eae98418e2c"
      },
      "source": [
        "pip install pyspark"
      ],
      "execution_count": 1,
      "outputs": [
        {
          "output_type": "stream",
          "text": [
            "Collecting pyspark\n",
            "\u001b[?25l  Downloading https://files.pythonhosted.org/packages/45/b0/9d6860891ab14a39d4bddf80ba26ce51c2f9dc4805e5c6978ac0472c120a/pyspark-3.1.1.tar.gz (212.3MB)\n",
            "\u001b[K     |████████████████████████████████| 212.3MB 69kB/s \n",
            "\u001b[?25hCollecting py4j==0.10.9\n",
            "\u001b[?25l  Downloading https://files.pythonhosted.org/packages/9e/b6/6a4fb90cd235dc8e265a6a2067f2a2c99f0d91787f06aca4bcf7c23f3f80/py4j-0.10.9-py2.py3-none-any.whl (198kB)\n",
            "\u001b[K     |████████████████████████████████| 204kB 42.7MB/s \n",
            "\u001b[?25hBuilding wheels for collected packages: pyspark\n",
            "  Building wheel for pyspark (setup.py) ... \u001b[?25l\u001b[?25hdone\n",
            "  Created wheel for pyspark: filename=pyspark-3.1.1-py2.py3-none-any.whl size=212767604 sha256=0fbaf51188419b34b2eca3d22e53147c799453a8a431a1b85ab1aac6c89f5b69\n",
            "  Stored in directory: /root/.cache/pip/wheels/0b/90/c0/01de724414ef122bd05f056541fb6a0ecf47c7ca655f8b3c0f\n",
            "Successfully built pyspark\n",
            "Installing collected packages: py4j, pyspark\n",
            "Successfully installed py4j-0.10.9 pyspark-3.1.1\n"
          ],
          "name": "stdout"
        }
      ]
    },
    {
      "cell_type": "code",
      "metadata": {
        "id": "e_deBzID5SPB"
      },
      "source": [
        "from pyspark.sql import SparkSession\n",
        "spark = SparkSession.builder.master(\"local[*]\").getOrCreate()"
      ],
      "execution_count": 16,
      "outputs": []
    },
    {
      "cell_type": "code",
      "metadata": {
        "id": "8j19AUKD7m_P"
      },
      "source": [
        "from pyspark import SparkContext\n",
        "sc = SparkContext.getOrCreate()"
      ],
      "execution_count": 17,
      "outputs": []
    },
    {
      "cell_type": "code",
      "metadata": {
        "id": "c8RyJFiM7rtD"
      },
      "source": [
        "Words=sc.textFile(\"/content/input.txt\")"
      ],
      "execution_count": 18,
      "outputs": []
    },
    {
      "cell_type": "code",
      "metadata": {
        "colab": {
          "base_uri": "https://localhost:8080/"
        },
        "id": "jC2_qGFq9fd4",
        "outputId": "df3b860f-71ca-4cf1-9423-4aed5a14c654"
      },
      "source": [
        "Words.collect()"
      ],
      "execution_count": 32,
      "outputs": [
        {
          "output_type": "execute_result",
          "data": {
            "text/plain": [
              "[\"Python is an interpreted high-level general-purpose programming language. Python's design philosophy emphasizes code readability with its notable use of significant indentation. Its language constructs as well as its object-oriented approach aim to help programmers write clear, logical code for small and large-scale projects.\",\n",
              " 'Python is dynamically-typed and garbage-collected. It supports multiple programming paradigms, including structured (particularly, procedural), object-oriented and functional programming. Python is often described as a \"batteries included\" language due to its comprehensive standard library.',\n",
              " 'Guido van Rossum began working on Python in the late 1980s, as a successor to the ABC programming language, and first released it in 1991 as Python 0.9.0.[32] Python 2.0 was released in 2000 and introduced new features, such as list comprehensions and a garbage collection system using reference counting and was discontinued with version 2.7.18 in 2020.[33] Python 3.0 was released in 2008 and was a major revision of the language that is not completely backward-compatible and much Python 2 code does not run unmodified on Python ']"
            ]
          },
          "metadata": {
            "tags": []
          },
          "execution_count": 32
        }
      ]
    },
    {
      "cell_type": "code",
      "metadata": {
        "colab": {
          "base_uri": "https://localhost:8080/"
        },
        "id": "kHAANFTL70Bu",
        "outputId": "ae57fe9f-4d03-4bdd-d9d1-6f6edd905a34"
      },
      "source": [
        "WordsCount=Words.flatMap(lambda line: line.split(\" \")).map(lambda word: (word, 1))\n",
        "WordsCount.count()"
      ],
      "execution_count": 19,
      "outputs": [
        {
          "output_type": "execute_result",
          "data": {
            "text/plain": [
              "165"
            ]
          },
          "metadata": {
            "tags": []
          },
          "execution_count": 19
        }
      ]
    },
    {
      "cell_type": "code",
      "metadata": {
        "colab": {
          "base_uri": "https://localhost:8080/"
        },
        "id": "vKa7YTYz9VRa",
        "outputId": "abea2e72-df37-4a37-dfc0-63ab03e67eba"
      },
      "source": [
        "WordsCount.collect()"
      ],
      "execution_count": 30,
      "outputs": [
        {
          "output_type": "execute_result",
          "data": {
            "text/plain": [
              "[('Python', 1),\n",
              " ('is', 1),\n",
              " ('an', 1),\n",
              " ('interpreted', 1),\n",
              " ('high-level', 1),\n",
              " ('general-purpose', 1),\n",
              " ('programming', 1),\n",
              " ('language.', 1),\n",
              " (\"Python's\", 1),\n",
              " ('design', 1),\n",
              " ('philosophy', 1),\n",
              " ('emphasizes', 1),\n",
              " ('code', 1),\n",
              " ('readability', 1),\n",
              " ('with', 1),\n",
              " ('its', 1),\n",
              " ('notable', 1),\n",
              " ('use', 1),\n",
              " ('of', 1),\n",
              " ('significant', 1),\n",
              " ('indentation.', 1),\n",
              " ('Its', 1),\n",
              " ('language', 1),\n",
              " ('constructs', 1),\n",
              " ('as', 1),\n",
              " ('well', 1),\n",
              " ('as', 1),\n",
              " ('its', 1),\n",
              " ('object-oriented', 1),\n",
              " ('approach', 1),\n",
              " ('aim', 1),\n",
              " ('to', 1),\n",
              " ('help', 1),\n",
              " ('programmers', 1),\n",
              " ('write', 1),\n",
              " ('clear,', 1),\n",
              " ('logical', 1),\n",
              " ('code', 1),\n",
              " ('for', 1),\n",
              " ('small', 1),\n",
              " ('and', 1),\n",
              " ('large-scale', 1),\n",
              " ('projects.', 1),\n",
              " ('Python', 1),\n",
              " ('is', 1),\n",
              " ('dynamically-typed', 1),\n",
              " ('and', 1),\n",
              " ('garbage-collected.', 1),\n",
              " ('It', 1),\n",
              " ('supports', 1),\n",
              " ('multiple', 1),\n",
              " ('programming', 1),\n",
              " ('paradigms,', 1),\n",
              " ('including', 1),\n",
              " ('structured', 1),\n",
              " ('(particularly,', 1),\n",
              " ('procedural),', 1),\n",
              " ('object-oriented', 1),\n",
              " ('and', 1),\n",
              " ('functional', 1),\n",
              " ('programming.', 1),\n",
              " ('Python', 1),\n",
              " ('is', 1),\n",
              " ('often', 1),\n",
              " ('described', 1),\n",
              " ('as', 1),\n",
              " ('a', 1),\n",
              " ('\"batteries', 1),\n",
              " ('included\"', 1),\n",
              " ('language', 1),\n",
              " ('due', 1),\n",
              " ('to', 1),\n",
              " ('its', 1),\n",
              " ('comprehensive', 1),\n",
              " ('standard', 1),\n",
              " ('library.', 1),\n",
              " ('Guido', 1),\n",
              " ('van', 1),\n",
              " ('Rossum', 1),\n",
              " ('began', 1),\n",
              " ('working', 1),\n",
              " ('on', 1),\n",
              " ('Python', 1),\n",
              " ('in', 1),\n",
              " ('the', 1),\n",
              " ('late', 1),\n",
              " ('1980s,', 1),\n",
              " ('as', 1),\n",
              " ('a', 1),\n",
              " ('successor', 1),\n",
              " ('to', 1),\n",
              " ('the', 1),\n",
              " ('ABC', 1),\n",
              " ('programming', 1),\n",
              " ('language,', 1),\n",
              " ('and', 1),\n",
              " ('first', 1),\n",
              " ('released', 1),\n",
              " ('it', 1),\n",
              " ('in', 1),\n",
              " ('1991', 1),\n",
              " ('as', 1),\n",
              " ('Python', 1),\n",
              " ('0.9.0.[32]', 1),\n",
              " ('Python', 1),\n",
              " ('2.0', 1),\n",
              " ('was', 1),\n",
              " ('released', 1),\n",
              " ('in', 1),\n",
              " ('2000', 1),\n",
              " ('and', 1),\n",
              " ('introduced', 1),\n",
              " ('new', 1),\n",
              " ('features,', 1),\n",
              " ('such', 1),\n",
              " ('as', 1),\n",
              " ('list', 1),\n",
              " ('comprehensions', 1),\n",
              " ('and', 1),\n",
              " ('a', 1),\n",
              " ('garbage', 1),\n",
              " ('collection', 1),\n",
              " ('system', 1),\n",
              " ('using', 1),\n",
              " ('reference', 1),\n",
              " ('counting', 1),\n",
              " ('and', 1),\n",
              " ('was', 1),\n",
              " ('discontinued', 1),\n",
              " ('with', 1),\n",
              " ('version', 1),\n",
              " ('2.7.18', 1),\n",
              " ('in', 1),\n",
              " ('2020.[33]', 1),\n",
              " ('Python', 1),\n",
              " ('3.0', 1),\n",
              " ('was', 1),\n",
              " ('released', 1),\n",
              " ('in', 1),\n",
              " ('2008', 1),\n",
              " ('and', 1),\n",
              " ('was', 1),\n",
              " ('a', 1),\n",
              " ('major', 1),\n",
              " ('revision', 1),\n",
              " ('of', 1),\n",
              " ('the', 1),\n",
              " ('language', 1),\n",
              " ('that', 1),\n",
              " ('is', 1),\n",
              " ('not', 1),\n",
              " ('completely', 1),\n",
              " ('backward-compatible', 1),\n",
              " ('and', 1),\n",
              " ('much', 1),\n",
              " ('Python', 1),\n",
              " ('2', 1),\n",
              " ('code', 1),\n",
              " ('does', 1),\n",
              " ('not', 1),\n",
              " ('run', 1),\n",
              " ('unmodified', 1),\n",
              " ('on', 1),\n",
              " ('Python', 1),\n",
              " ('', 1)]"
            ]
          },
          "metadata": {
            "tags": []
          },
          "execution_count": 30
        }
      ]
    },
    {
      "cell_type": "code",
      "metadata": {
        "colab": {
          "base_uri": "https://localhost:8080/"
        },
        "id": "b8H361bM75PR",
        "outputId": "8d307a10-1979-448a-c63c-6bfe12143dd7"
      },
      "source": [
        "DistinctWordsCount=WordsCount.reduceByKey(lambda a,b: a+b)\n",
        "DistinctWordsCount.count()"
      ],
      "execution_count": 20,
      "outputs": [
        {
          "output_type": "execute_result",
          "data": {
            "text/plain": [
              "112"
            ]
          },
          "metadata": {
            "tags": []
          },
          "execution_count": 20
        }
      ]
    },
    {
      "cell_type": "code",
      "metadata": {
        "colab": {
          "base_uri": "https://localhost:8080/"
        },
        "id": "mJMuU1B_9GIP",
        "outputId": "3a9c27a1-7e9b-49f4-b75c-bc175f7c08a9"
      },
      "source": [
        "DistinctWordsCount.collect()"
      ],
      "execution_count": 29,
      "outputs": [
        {
          "output_type": "execute_result",
          "data": {
            "text/plain": [
              "[('Python', 9),\n",
              " ('is', 4),\n",
              " ('an', 1),\n",
              " ('interpreted', 1),\n",
              " ('high-level', 1),\n",
              " ('general-purpose', 1),\n",
              " ('programming', 3),\n",
              " ('language.', 1),\n",
              " (\"Python's\", 1),\n",
              " ('design', 1),\n",
              " ('philosophy', 1),\n",
              " ('emphasizes', 1),\n",
              " ('code', 3),\n",
              " ('readability', 1),\n",
              " ('with', 2),\n",
              " ('its', 3),\n",
              " ('notable', 1),\n",
              " ('use', 1),\n",
              " ('of', 2),\n",
              " ('significant', 1),\n",
              " ('indentation.', 1),\n",
              " ('Its', 1),\n",
              " ('language', 3),\n",
              " ('constructs', 1),\n",
              " ('as', 6),\n",
              " ('well', 1),\n",
              " ('object-oriented', 2),\n",
              " ('approach', 1),\n",
              " ('aim', 1),\n",
              " ('to', 3),\n",
              " ('help', 1),\n",
              " ('programmers', 1),\n",
              " ('write', 1),\n",
              " ('clear,', 1),\n",
              " ('logical', 1),\n",
              " ('for', 1),\n",
              " ('small', 1),\n",
              " ('and', 9),\n",
              " ('large-scale', 1),\n",
              " ('projects.', 1),\n",
              " ('dynamically-typed', 1),\n",
              " ('garbage-collected.', 1),\n",
              " ('It', 1),\n",
              " ('supports', 1),\n",
              " ('multiple', 1),\n",
              " ('paradigms,', 1),\n",
              " ('including', 1),\n",
              " ('structured', 1),\n",
              " ('(particularly,', 1),\n",
              " ('procedural),', 1),\n",
              " ('functional', 1),\n",
              " ('programming.', 1),\n",
              " ('often', 1),\n",
              " ('described', 1),\n",
              " ('a', 4),\n",
              " ('\"batteries', 1),\n",
              " ('included\"', 1),\n",
              " ('due', 1),\n",
              " ('comprehensive', 1),\n",
              " ('standard', 1),\n",
              " ('library.', 1),\n",
              " ('Guido', 1),\n",
              " ('van', 1),\n",
              " ('Rossum', 1),\n",
              " ('began', 1),\n",
              " ('working', 1),\n",
              " ('on', 2),\n",
              " ('in', 5),\n",
              " ('the', 3),\n",
              " ('late', 1),\n",
              " ('1980s,', 1),\n",
              " ('successor', 1),\n",
              " ('ABC', 1),\n",
              " ('language,', 1),\n",
              " ('first', 1),\n",
              " ('released', 3),\n",
              " ('it', 1),\n",
              " ('1991', 1),\n",
              " ('0.9.0.[32]', 1),\n",
              " ('2.0', 1),\n",
              " ('was', 4),\n",
              " ('2000', 1),\n",
              " ('introduced', 1),\n",
              " ('new', 1),\n",
              " ('features,', 1),\n",
              " ('such', 1),\n",
              " ('list', 1),\n",
              " ('comprehensions', 1),\n",
              " ('garbage', 1),\n",
              " ('collection', 1),\n",
              " ('system', 1),\n",
              " ('using', 1),\n",
              " ('reference', 1),\n",
              " ('counting', 1),\n",
              " ('discontinued', 1),\n",
              " ('version', 1),\n",
              " ('2.7.18', 1),\n",
              " ('2020.[33]', 1),\n",
              " ('3.0', 1),\n",
              " ('2008', 1),\n",
              " ('major', 1),\n",
              " ('revision', 1),\n",
              " ('that', 1),\n",
              " ('not', 2),\n",
              " ('completely', 1),\n",
              " ('backward-compatible', 1),\n",
              " ('much', 1),\n",
              " ('2', 1),\n",
              " ('does', 1),\n",
              " ('run', 1),\n",
              " ('unmodified', 1),\n",
              " ('', 1)]"
            ]
          },
          "metadata": {
            "tags": []
          },
          "execution_count": 29
        }
      ]
    },
    {
      "cell_type": "code",
      "metadata": {
        "colab": {
          "base_uri": "https://localhost:8080/"
        },
        "id": "MDuQNIQE78tN",
        "outputId": "65efb7f9-6ac5-483a-bffb-a2c996395ce9"
      },
      "source": [
        "SortedWordsCount=DistinctWordsCount.map(lambda a: (a[1], a[0])).sortByKey()\n",
        "SortedWordsCount.top(5)"
      ],
      "execution_count": 27,
      "outputs": [
        {
          "output_type": "execute_result",
          "data": {
            "text/plain": [
              "[(9, 'and'), (9, 'Python'), (6, 'as'), (5, 'in'), (4, 'was')]"
            ]
          },
          "metadata": {
            "tags": []
          },
          "execution_count": 27
        }
      ]
    },
    {
      "cell_type": "code",
      "metadata": {
        "colab": {
          "base_uri": "https://localhost:8080/"
        },
        "id": "poSNlcOi89mf",
        "outputId": "58f295a4-3a4a-4108-d145-9f76c82e60ab"
      },
      "source": [
        "SortedWordsCount.collect()"
      ],
      "execution_count": 28,
      "outputs": [
        {
          "output_type": "execute_result",
          "data": {
            "text/plain": [
              "[(1, 'an'),\n",
              " (1, 'interpreted'),\n",
              " (1, 'high-level'),\n",
              " (1, 'general-purpose'),\n",
              " (1, 'language.'),\n",
              " (1, \"Python's\"),\n",
              " (1, 'design'),\n",
              " (1, 'philosophy'),\n",
              " (1, 'emphasizes'),\n",
              " (1, 'readability'),\n",
              " (1, 'notable'),\n",
              " (1, 'use'),\n",
              " (1, 'significant'),\n",
              " (1, 'indentation.'),\n",
              " (1, 'Its'),\n",
              " (1, 'constructs'),\n",
              " (1, 'well'),\n",
              " (1, 'approach'),\n",
              " (1, 'aim'),\n",
              " (1, 'help'),\n",
              " (1, 'programmers'),\n",
              " (1, 'write'),\n",
              " (1, 'clear,'),\n",
              " (1, 'logical'),\n",
              " (1, 'for'),\n",
              " (1, 'small'),\n",
              " (1, 'large-scale'),\n",
              " (1, 'projects.'),\n",
              " (1, 'dynamically-typed'),\n",
              " (1, 'garbage-collected.'),\n",
              " (1, 'It'),\n",
              " (1, 'supports'),\n",
              " (1, 'multiple'),\n",
              " (1, 'paradigms,'),\n",
              " (1, 'including'),\n",
              " (1, 'structured'),\n",
              " (1, '(particularly,'),\n",
              " (1, 'procedural),'),\n",
              " (1, 'functional'),\n",
              " (1, 'programming.'),\n",
              " (1, 'often'),\n",
              " (1, 'described'),\n",
              " (1, '\"batteries'),\n",
              " (1, 'included\"'),\n",
              " (1, 'due'),\n",
              " (1, 'comprehensive'),\n",
              " (1, 'standard'),\n",
              " (1, 'library.'),\n",
              " (1, 'Guido'),\n",
              " (1, 'van'),\n",
              " (1, 'Rossum'),\n",
              " (1, 'began'),\n",
              " (1, 'working'),\n",
              " (1, 'late'),\n",
              " (1, '1980s,'),\n",
              " (1, 'successor'),\n",
              " (1, 'ABC'),\n",
              " (1, 'language,'),\n",
              " (1, 'first'),\n",
              " (1, 'it'),\n",
              " (1, '1991'),\n",
              " (1, '0.9.0.[32]'),\n",
              " (1, '2.0'),\n",
              " (1, '2000'),\n",
              " (1, 'introduced'),\n",
              " (1, 'new'),\n",
              " (1, 'features,'),\n",
              " (1, 'such'),\n",
              " (1, 'list'),\n",
              " (1, 'comprehensions'),\n",
              " (1, 'garbage'),\n",
              " (1, 'collection'),\n",
              " (1, 'system'),\n",
              " (1, 'using'),\n",
              " (1, 'reference'),\n",
              " (1, 'counting'),\n",
              " (1, 'discontinued'),\n",
              " (1, 'version'),\n",
              " (1, '2.7.18'),\n",
              " (1, '2020.[33]'),\n",
              " (1, '3.0'),\n",
              " (1, '2008'),\n",
              " (1, 'major'),\n",
              " (1, 'revision'),\n",
              " (1, 'that'),\n",
              " (1, 'completely'),\n",
              " (1, 'backward-compatible'),\n",
              " (1, 'much'),\n",
              " (1, '2'),\n",
              " (1, 'does'),\n",
              " (1, 'run'),\n",
              " (1, 'unmodified'),\n",
              " (1, ''),\n",
              " (2, 'with'),\n",
              " (2, 'of'),\n",
              " (2, 'object-oriented'),\n",
              " (2, 'on'),\n",
              " (2, 'not'),\n",
              " (3, 'programming'),\n",
              " (3, 'code'),\n",
              " (3, 'its'),\n",
              " (3, 'language'),\n",
              " (3, 'to'),\n",
              " (3, 'the'),\n",
              " (3, 'released'),\n",
              " (4, 'is'),\n",
              " (4, 'a'),\n",
              " (4, 'was'),\n",
              " (5, 'in'),\n",
              " (6, 'as'),\n",
              " (9, 'Python'),\n",
              " (9, 'and')]"
            ]
          },
          "metadata": {
            "tags": []
          },
          "execution_count": 28
        }
      ]
    },
    {
      "cell_type": "code",
      "metadata": {
        "colab": {
          "base_uri": "https://localhost:8080/"
        },
        "id": "udXP4UXG8Bqe",
        "outputId": "8a8e5007-0f6a-4895-c72e-3712c01bf1e2"
      },
      "source": [
        "#print most frequent 20 words\n",
        "SortedWordsCount.top(20)"
      ],
      "execution_count": 22,
      "outputs": [
        {
          "output_type": "execute_result",
          "data": {
            "text/plain": [
              "[(9, 'and'),\n",
              " (9, 'Python'),\n",
              " (6, 'as'),\n",
              " (5, 'in'),\n",
              " (4, 'was'),\n",
              " (4, 'is'),\n",
              " (4, 'a'),\n",
              " (3, 'to'),\n",
              " (3, 'the'),\n",
              " (3, 'released'),\n",
              " (3, 'programming'),\n",
              " (3, 'language'),\n",
              " (3, 'its'),\n",
              " (3, 'code'),\n",
              " (2, 'with'),\n",
              " (2, 'on'),\n",
              " (2, 'of'),\n",
              " (2, 'object-oriented'),\n",
              " (2, 'not'),\n",
              " (1, 'write')]"
            ]
          },
          "metadata": {
            "tags": []
          },
          "execution_count": 22
        }
      ]
    },
    {
      "cell_type": "code",
      "metadata": {
        "id": "anjsWjKK8Lzc"
      },
      "source": [
        ""
      ],
      "execution_count": null,
      "outputs": []
    }
  ]
}